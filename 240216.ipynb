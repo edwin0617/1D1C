{
 "cells": [
  {
   "cell_type": "markdown",
   "metadata": {},
   "source": [
    "## 카드뭉치_프로그래머스"
   ]
  },
  {
   "cell_type": "markdown",
   "metadata": {},
   "source": [
    "### Sol 1"
   ]
  },
  {
   "cell_type": "code",
   "execution_count": null,
   "metadata": {},
   "outputs": [],
   "source": [
    "def solution(cards1, cards2, goal):\n",
    "    \n",
    "    stack = 0\n",
    "    \n",
    "    for i, j in enumerate(goal):\n",
    "        \n",
    "        if len(cards1): # cards1 뭉치에 카드가 남아있을 때\n",
    "            if cards1[0] == j: # cards1 뭉치 첫번째 카드 == j일 때 \n",
    "                cards1 = cards1[1:]  # 첫번째 카드 버림\n",
    "                stack += 1  \n",
    "            else: pass\n",
    "        else:\n",
    "            pass\n",
    "            \n",
    "        if len(cards2): # cards2 뭉치에 카드가 남아있을 때\n",
    "            if cards2[0] == j:  # cards2 뭉치 첫번째 카드 == j일 때 \n",
    "                cards2 = cards2[1:]  # 첫번째 카드 버림\n",
    "                stack += 1 \n",
    "            else: pass\n",
    "        else:\n",
    "            pass\n",
    "    \n",
    "    # goal의 길이와 규칙에 따라 버린 카드의 갯수가 일치한다면 \"Yes\" return\n",
    "    if len(goal) == stack:\n",
    "        return 'Yes'\n",
    "    else:\n",
    "        return 'No'"
   ]
  },
  {
   "cell_type": "markdown",
   "metadata": {},
   "source": [
    "### Sol 2\n",
    "#### 참고: https://nodingco.tistory.com/208"
   ]
  },
  {
   "cell_type": "code",
   "execution_count": null,
   "metadata": {},
   "outputs": [],
   "source": [
    "def solution(cards1, cards2, goal):\n",
    "    i, j, y_or_n = 0, 0, True\n",
    "\n",
    "    for g in goal:\n",
    "\n",
    "        if len(card1) > i and cards1[i] == g:  # card1 뭉치 길이가 i보다 클 때 and cards1의 i번째 문자가 g와 같을 때\n",
    "            i += 1\n",
    "        elif len(card2) > j and cards2[j] == g: # card2 뭉치 길이가 j보다 클 때 and cards2의 j번째 문자가 g와 같을 때\n",
    "            j += 1\n",
    "        else:           # 한번이라도 규칙에서 어긋났을 때 y_or_n = False 할당 후 반복문을 종료\n",
    "            y_or_n = False   \n",
    "            break   # >>> 기존에는 없었지만, break을 넣어주면 굳이 goal 전부를 다 볼 필요는 없음, 메모리도 아낄 수 있음!\n",
    "        \n",
    "    return \"Yes\" if y_or_n else 'No'"
   ]
  }
 ],
 "metadata": {
  "language_info": {
   "name": "python"
  }
 },
 "nbformat": 4,
 "nbformat_minor": 2
}
