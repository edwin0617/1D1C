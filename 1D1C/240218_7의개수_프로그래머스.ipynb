{
 "cells": [
  {
   "cell_type": "markdown",
   "metadata": {},
   "source": [
    "## Sol 1"
   ]
  },
  {
   "cell_type": "code",
   "execution_count": null,
   "metadata": {},
   "outputs": [],
   "source": [
    "def solution(array):\n",
    "    answer = 0\n",
    "    \n",
    "    for i in array: # array 각각의 원소 i에 대해 string으로 만들어준 후\n",
    "        answer += str(i).count('7')  # '7'의 개수를 센 다음 answer에 append\n",
    "    return answer"
   ]
  },
  {
   "cell_type": "markdown",
   "metadata": {},
   "source": [
    "## Sol 2"
   ]
  },
  {
   "cell_type": "code",
   "execution_count": null,
   "metadata": {},
   "outputs": [],
   "source": [
    "def solution(array):   \n",
    "    return str(array).count('7')  # list에 데이터타입 변형 함수를 쓰면 전체적으로 다 바꿀 수 있음\n",
    "                                  # 이를 이용하여 '7'의 개수를 한꺼번에 셀 수 있음"
   ]
  }
 ],
 "metadata": {
  "language_info": {
   "name": "python"
  }
 },
 "nbformat": 4,
 "nbformat_minor": 2
}
