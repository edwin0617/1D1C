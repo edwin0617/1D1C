{
 "cells": [
  {
   "cell_type": "markdown",
   "metadata": {},
   "source": [
    "## Sol 1"
   ]
  },
  {
   "cell_type": "code",
   "execution_count": 1,
   "metadata": {},
   "outputs": [
    {
     "data": {
      "text/plain": [
       "{'1', '2', '3', '4'}"
      ]
     },
     "execution_count": 1,
     "metadata": {},
     "output_type": "execute_result"
    }
   ],
   "source": [
    "def solution(s):\n",
    "    # i번째 문자열마다 번째수(idx+1) 입력할 딕셔너리 생성\n",
    "    dic = {i: 0 for i in set(s)}\n",
    "    answer = []\n",
    "    \n",
    "    for i, j in enumerate(s):\n",
    "        if dic[j] == 0:  # 처음 보는 문자열에 대해 딕셔너리 value값이 0으로 되어 있으므로, \n",
    "            answer.append(-1) # 0번째 인덱스의 문자열일때 0이 다시 딕셔너리에 할당되는 케이스를 고려해서 i+1을 해줌\n",
    "            dic[j] = i+1\n",
    "        else:\n",
    "            answer.append(i+1 - dic[j])\n",
    "            dic[j] = i+1\n",
    "            \n",
    "    return answer"
   ]
  },
  {
   "cell_type": "markdown",
   "metadata": {},
   "source": [
    "## Sol 2"
   ]
  },
  {
   "cell_type": "code",
   "execution_count": null,
   "metadata": {},
   "outputs": [],
   "source": [
    "def solution(s):\n",
    "    # i번째 문자열마다 번째수(idx) 입력할 딕셔너리 생성\n",
    "    dic = {i: -1 for i in set(s)} # 애초에 처음부터 -1을 할당해버리면 idx+1을 할 이유가 없어짐\n",
    "    answer = []\n",
    "    \n",
    "    for i, j in enumerate(s):\n",
    "        if dic[j] == -1:\n",
    "            answer.append(-1)\n",
    "            dic[j] = i\n",
    "        else:\n",
    "            answer.append(i - dic[j])\n",
    "            dic[j] = i\n",
    "            \n",
    "    return answer"
   ]
  }
 ],
 "metadata": {
  "kernelspec": {
   "display_name": "base",
   "language": "python",
   "name": "python3"
  },
  "language_info": {
   "codemirror_mode": {
    "name": "ipython",
    "version": 3
   },
   "file_extension": ".py",
   "mimetype": "text/x-python",
   "name": "python",
   "nbconvert_exporter": "python",
   "pygments_lexer": "ipython3",
   "version": "3.10.11"
  }
 },
 "nbformat": 4,
 "nbformat_minor": 2
}
