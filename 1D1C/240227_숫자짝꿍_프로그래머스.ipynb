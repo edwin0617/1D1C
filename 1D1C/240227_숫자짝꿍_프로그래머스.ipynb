{
 "cells": [
  {
   "cell_type": "code",
   "execution_count": 13,
   "metadata": {},
   "outputs": [],
   "source": [
    "def solution(X, Y):\n",
    "    \n",
    "    string = \"\"\n",
    "    for i in range(10):  # 0부터 9까지 정수 반복\n",
    "        alpha = str(i)  # 문자열로 타입 변경\n",
    "        string +=  alpha * (min(X.count(alpha), Y.count(alpha))) # X, Y 각각의 alpha 개수 중 작은 값만큼 string에 추가\n",
    "    \n",
    "    string = sorted(string, reverse= True) # string 내림차순으로 정렬\n",
    "    answer = \"\".join(string) # 한 문자열로 합치기\n",
    "    \n",
    "\n",
    "    if answer:\n",
    "        if len(answer) == answer.count('0'):  # \"000\" 같은 케이스 대비하여 \"0\"으로 되도록 추가 \n",
    "            return '0'\n",
    "        else:\n",
    "            return answer\n",
    "    else:\n",
    "        return \"-1\"\n",
    "            "
   ]
  },
  {
   "cell_type": "code",
   "execution_count": 14,
   "metadata": {},
   "outputs": [
    {
     "data": {
      "text/plain": [
       "'-1'"
      ]
     },
     "execution_count": 14,
     "metadata": {},
     "output_type": "execute_result"
    }
   ],
   "source": [
    "solution(\"100\", \"2345\")"
   ]
  },
  {
   "cell_type": "code",
   "execution_count": 12,
   "metadata": {},
   "outputs": [
    {
     "data": {
      "text/plain": [
       "'11'"
      ]
     },
     "execution_count": 12,
     "metadata": {},
     "output_type": "execute_result"
    }
   ],
   "source": [
    "\"1\" *2"
   ]
  },
  {
   "cell_type": "code",
   "execution_count": null,
   "metadata": {},
   "outputs": [],
   "source": []
  },
  {
   "cell_type": "code",
   "execution_count": null,
   "metadata": {},
   "outputs": [],
   "source": []
  }
 ],
 "metadata": {
  "kernelspec": {
   "display_name": "base",
   "language": "python",
   "name": "python3"
  },
  "language_info": {
   "codemirror_mode": {
    "name": "ipython",
    "version": 3
   },
   "file_extension": ".py",
   "mimetype": "text/x-python",
   "name": "python",
   "nbconvert_exporter": "python",
   "pygments_lexer": "ipython3",
   "version": "3.10.11"
  }
 },
 "nbformat": 4,
 "nbformat_minor": 2
}
