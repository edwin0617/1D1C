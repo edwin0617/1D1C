{
 "cells": [
  {
   "cell_type": "code",
   "execution_count": null,
   "metadata": {},
   "outputs": [],
   "source": [
    "def solution(wallpaper):\n",
    "    x_list, y_list = [], [] #타일의 꼭짓점 좌표 기록할 리스트 생성\n",
    "    for i, tile in enumerate(wallpaper): # 각 행마다 \n",
    "        for j, dot in enumerate(tile): # i번째 행의 j번째 열(원소마다) \"#\"인지 아닌지 체크\n",
    "            if dot == \"#\":\n",
    "                x_list.append(i)\n",
    "                y_list.append(j)\n",
    "    return [min(x_list), min(y_list), max(x_list) + 1, max(y_list) + 1] # 드래그 시작점은 (i, j)와 일치하지만, \n",
    "                                                                        # 드래그 종료점은 (i, j)보다 우측 하단이므로 각각 +1을 해줘야 함"
   ]
  }
 ],
 "metadata": {
  "kernelspec": {
   "display_name": "base",
   "language": "python",
   "name": "python3"
  },
  "language_info": {
   "codemirror_mode": {
    "name": "ipython",
    "version": 3
   },
   "file_extension": ".py",
   "mimetype": "text/x-python",
   "name": "python",
   "nbconvert_exporter": "python",
   "pygments_lexer": "ipython3",
   "version": "3.10.11"
  }
 },
 "nbformat": 4,
 "nbformat_minor": 2
}
