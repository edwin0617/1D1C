{
 "cells": [
  {
   "cell_type": "markdown",
   "metadata": {},
   "source": [
    "## Sol 1"
   ]
  },
  {
   "cell_type": "code",
   "execution_count": 36,
   "metadata": {},
   "outputs": [],
   "source": [
    "import numpy as np\n",
    "\n",
    "def solution(answers):\n",
    "\n",
    "    answer = []\n",
    "    \n",
    "    fir_patt = [1,2,3,4,5]\n",
    "    sec_patt = [2,1,2,3,2,4,2,5]\n",
    "    thr_patt = [3,3,1,1,2,2,4,4,5,5]\n",
    "    \n",
    "    patt_list = [fir_patt, sec_patt, thr_patt]\n",
    "    \n",
    "    for i in patt_list:\n",
    "        _ = len(answers) / len(i)\n",
    "        rep_num = int(_) + 1 if type(_) == float else _\n",
    "        \n",
    "        ith_answer = i * rep_num\n",
    "        ith_answer = ith_answer[:len(answers)]\n",
    "        \n",
    "        answer.append(sum(np.array(ith_answer) == np.array(answers)))\n",
    "\n",
    "    return [i + 1 for i, j in enumerate(answer) if j == max(answer)]"
   ]
  },
  {
   "cell_type": "markdown",
   "metadata": {},
   "source": [
    "## Sol 2 : 다른 사람 풀이\n",
    "#### 참고 : https://it-garden.tistory.com/197"
   ]
  },
  {
   "cell_type": "code",
   "execution_count": null,
   "metadata": {},
   "outputs": [],
   "source": [
    "def solution(answers):\n",
    "\n",
    "    score = [0, 0, 0]\n",
    "\n",
    "    fir_patt = [1,2,3,4,5]\n",
    "    sec_patt = [2,1,2,3,2,4,2,5]\n",
    "    thr_patt = [3,3,1,1,2,2,4,4,5,5]\n",
    "\n",
    "    answer = []\n",
    "\n",
    "    for idx, answer in enumerate(answers):\n",
    "        if answer == fir_patt[idx % len(fir_patt)]:\n",
    "            score[0] += 1\n",
    "        if answer == sec_patt[idx % len(sec_patt)]:\n",
    "            score[1] += 1\n",
    "        if answer == thr_patt[idx % len(thr_patt)]:\n",
    "            score[2] += 1\n",
    "    \n",
    "    for idx, s in enumerate(score):\n",
    "        if s == max(score):\n",
    "            answer.append(idx+1)\n",
    "\n",
    "    return answer"
   ]
  },
  {
   "cell_type": "markdown",
   "metadata": {},
   "source": [
    "## Sol 3: 다른 사람 풀이 개선한 버전"
   ]
  },
  {
   "cell_type": "code",
   "execution_count": null,
   "metadata": {},
   "outputs": [],
   "source": [
    "def solution(answers):\n",
    "\n",
    "    score = [0, 0, 0]\n",
    "\n",
    "    fir_patt = [1,2,3,4,5]\n",
    "    sec_patt = [2,1,2,3,2,4,2,5]\n",
    "    thr_patt = [3,3,1,1,2,2,4,4,5,5]\n",
    "\n",
    "    answer = []\n",
    "\n",
    "    for idx, answer in enumerate(answers):\n",
    "        if answer == fir_patt[idx % len(fir_patt)]:\n",
    "            score[0] += 1\n",
    "        if answer == sec_patt[idx % len(sec_patt)]:\n",
    "            score[1] += 1\n",
    "        if answer == thr_patt[idx % len(thr_patt)]:\n",
    "            score[2] += 1\n",
    "    \n",
    "\n",
    "    return [i+1 for i, j in enumerate(score) if j == max(score)]"
   ]
  }
 ],
 "metadata": {
  "kernelspec": {
   "display_name": "base",
   "language": "python",
   "name": "python3"
  },
  "language_info": {
   "codemirror_mode": {
    "name": "ipython",
    "version": 3
   },
   "file_extension": ".py",
   "mimetype": "text/x-python",
   "name": "python",
   "nbconvert_exporter": "python",
   "pygments_lexer": "ipython3",
   "version": "3.10.11"
  }
 },
 "nbformat": 4,
 "nbformat_minor": 2
}
