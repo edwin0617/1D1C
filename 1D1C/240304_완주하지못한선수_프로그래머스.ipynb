{
 "cells": [
  {
   "cell_type": "markdown",
   "metadata": {},
   "source": [
    "## Sol 1 : Fail\n",
    "#### 효율성 측면에서 탈락"
   ]
  },
  {
   "cell_type": "code",
   "execution_count": 11,
   "metadata": {},
   "outputs": [
    {
     "data": {
      "text/plain": [
       "0"
      ]
     },
     "execution_count": 11,
     "metadata": {},
     "output_type": "execute_result"
    }
   ],
   "source": [
    "def solution(participant, completion):\n",
    "    \n",
    "    for i in completion:\n",
    "        idx = participant.index(i)\n",
    "        participant.pop(idx)\n",
    "        \n",
    "    return participant.pop()"
   ]
  },
  {
   "cell_type": "markdown",
   "metadata": {},
   "source": [
    "## Sol 2\n",
    "#### hash한 값은 항상 똑같음!\n",
    "#### 따라서 딕셔너리로 만들게 되면 key값이 겹쳐서 hash값이 그만큼 더해지지 않는 케이스 발생"
   ]
  },
  {
   "cell_type": "code",
   "execution_count": 26,
   "metadata": {},
   "outputs": [
    {
     "name": "stdout",
     "output_type": "stream",
     "text": [
      "{-6940293926579756097: 'leo', 6404791077567624309: 'kiki', 7580629822544163821: 'eden'} {7580629822544163821: 'eden', 6404791077567624309: 'kiki'}\n",
      "7045126973532032033 13985420900111788130\n",
      "-6940293926579756097\n",
      "leo\n"
     ]
    }
   ],
   "source": [
    "def solution(participant, completion):\n",
    "    #participant.sort()\n",
    "    #completion.sort()\n",
    "    \n",
    "    part_hash = {hash(i) : i for i in participant}\n",
    "    comp_hash = {hash(i) : i for i in completion}\n",
    "    \n",
    "    print(part_hash, comp_hash)\n",
    "\n",
    "    part_sum = sum(part_hash.keys())\n",
    "    comp_sum = sum(comp_hash.keys())\n",
    "    \n",
    "    print(part_sum, comp_sum)\n",
    "\n",
    "    diff = part_sum - comp_sum\n",
    "    print(diff)\n",
    "\n",
    "    return part_hash[diff]"
   ]
  },
  {
   "cell_type": "markdown",
   "metadata": {},
   "source": [
    "## Sol 3\n",
    "#### 참고 : https://coding-grandpa.tistory.com/85 "
   ]
  },
  {
   "cell_type": "code",
   "execution_count": 30,
   "metadata": {},
   "outputs": [
    {
     "data": {
      "text/plain": [
       "True"
      ]
     },
     "execution_count": 30,
     "metadata": {},
     "output_type": "execute_result"
    }
   ],
   "source": [
    "def solution(participant, completion):\n",
    "    \n",
    "    part_dict = {hash(i): i for i in participant}\n",
    "    \n",
    "    part_sum, comp_sum = 0, 0\n",
    "    for i in participant:\n",
    "        part_sum += hash(i)\n",
    "        \n",
    "        \n",
    "    for i in completion:\n",
    "        comp_sum += hash(i)\n",
    "    \n",
    "    \n",
    "    diff = part_sum - comp_sum\n",
    "    return part_dict[diff]"
   ]
  }
 ],
 "metadata": {
  "kernelspec": {
   "display_name": "base",
   "language": "python",
   "name": "python3"
  },
  "language_info": {
   "codemirror_mode": {
    "name": "ipython",
    "version": 3
   },
   "file_extension": ".py",
   "mimetype": "text/x-python",
   "name": "python",
   "nbconvert_exporter": "python",
   "pygments_lexer": "ipython3",
   "version": "3.10.11"
  }
 },
 "nbformat": 4,
 "nbformat_minor": 2
}
