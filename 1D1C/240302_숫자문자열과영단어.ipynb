{
 "cells": [
  {
   "cell_type": "code",
   "execution_count": 6,
   "metadata": {},
   "outputs": [
    {
     "data": {
      "text/plain": [
       "{'zero': '0',\n",
       " 'one': '1',\n",
       " 'two': '2',\n",
       " 'three': '3',\n",
       " 'four': '4',\n",
       " 'five': '5',\n",
       " 'six': '6',\n",
       " 'seven': '7',\n",
       " 'eight': '8',\n",
       " 'nine': '9'}"
      ]
     },
     "execution_count": 6,
     "metadata": {},
     "output_type": "execute_result"
    }
   ],
   "source": [
    "def solution(s):\n",
    "    # 딕셔너리 생성\n",
    "    dic = {'zero': '0', 'one': '1', 'two': '2', 'three': '3', 'four': '4', 'five': '5',\n",
    "           'six': '6', 'seven': '7', 'eight': '8', 'nine': '9'}\n",
    "        \n",
    "    # 딕셔너리의 모든 key값들에 대해서 iter\n",
    "    for i in dic:  # dic.keys()\n",
    "        if i in s:\n",
    "            s = s.replace(i, dic[i])\n",
    "    \n",
    "    return int(s)"
   ]
  }
 ],
 "metadata": {
  "kernelspec": {
   "display_name": "base",
   "language": "python",
   "name": "python3"
  },
  "language_info": {
   "codemirror_mode": {
    "name": "ipython",
    "version": 3
   },
   "file_extension": ".py",
   "mimetype": "text/x-python",
   "name": "python",
   "nbconvert_exporter": "python",
   "pygments_lexer": "ipython3",
   "version": "3.10.11"
  }
 },
 "nbformat": 4,
 "nbformat_minor": 2
}
