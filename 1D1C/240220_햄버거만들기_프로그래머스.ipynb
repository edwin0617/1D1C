{
 "cells": [
  {
   "cell_type": "markdown",
   "metadata": {},
   "source": [
    "## Sol 1 : 실패\n",
    "### 사유 : 시간초과"
   ]
  },
  {
   "cell_type": "code",
   "execution_count": 52,
   "metadata": {},
   "outputs": [],
   "source": [
    "def solution(ingredient):\n",
    "    answer = 0\n",
    "    recipe = [1,2,3,1]\n",
    "\n",
    "    while True:\n",
    "        stack = 0\n",
    "\n",
    "        for i, j in enumerate(ingredient):\n",
    "            if ingredient[i:i+4] == recipe:\n",
    "                ingredient[i:i+4] = [0]*4  # 그냥 0 넣으면 에러 떠서 같은 길이의 리스트로 할당해줘야 했음\n",
    "                answer += 1\n",
    "\n",
    "        if 0 in ingredient:    # 0이 재료 안에 있다면 한번에 지워준다\n",
    "            ingredient.remove(0)\n",
    "        else:\n",
    "            break\n",
    "    \n",
    "    return answer"
   ]
  },
  {
   "cell_type": "markdown",
   "metadata": {},
   "source": [
    "## Sol 2"
   ]
  },
  {
   "cell_type": "code",
   "execution_count": 71,
   "metadata": {},
   "outputs": [],
   "source": [
    "def solution(ingredient):\n",
    "\n",
    "    answer = 0\n",
    "    recipe = [1,2,3,1]\n",
    "    note= [] \n",
    "\n",
    "    for i in ingredient:\n",
    "        note.append(i)\n",
    "\n",
    "        if note[-4:] == recipe:  # 앞에서부터 기록된 note의 뒤에서 4번째부터 슬라이싱 == recipe이면 +1\n",
    "\t\t\t\t\t\t\t\t\t\t\t\t\t\t\t\t \n",
    "            answer += 1\n",
    "            del note[-4:]  # del 대신 .pop()을 4번 반복해서 풀어도 됨\n",
    "\t\t\t\t\t\t\t\t\t\t\t\t\t # 레시피인 부분만 날아가기 때문에 while문으로 다시 지운 ingredient를 훑지 않아도 됨\n",
    "    return answer"
   ]
  }
 ],
 "metadata": {
  "kernelspec": {
   "display_name": "base",
   "language": "python",
   "name": "python3"
  },
  "language_info": {
   "codemirror_mode": {
    "name": "ipython",
    "version": 3
   },
   "file_extension": ".py",
   "mimetype": "text/x-python",
   "name": "python",
   "nbconvert_exporter": "python",
   "pygments_lexer": "ipython3",
   "version": "3.10.11"
  }
 },
 "nbformat": 4,
 "nbformat_minor": 2
}
