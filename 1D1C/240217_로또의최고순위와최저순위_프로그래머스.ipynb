{
 "cells": [
  {
   "cell_type": "markdown",
   "metadata": {},
   "source": [
    "## Sol1"
   ]
  },
  {
   "cell_type": "code",
   "execution_count": 6,
   "metadata": {},
   "outputs": [
    {
     "data": {
      "text/plain": [
       "[3, 5]"
      ]
     },
     "execution_count": 6,
     "metadata": {},
     "output_type": "execute_result"
    }
   ],
   "source": [
    "def solution(lottos, win_nums):\n",
    "    \n",
    "    rack_dict = {6: 1, 5: 2, 4: 3, 3: 4, 2: 5, 1: 6, 0: 6}\n",
    "    \n",
    "    stack = 0\n",
    "    \n",
    "    for num in lottos:\n",
    "        if num in win_nums:\n",
    "            stack += 1\n",
    "        else:\n",
    "            pass\n",
    "    \n",
    "    # stack : 로또번호와 당첨번호 일치 개수\n",
    "    # 0 : 당첨번호와 일치할 수 있는 로또번호 개수로, 최고 순위와 최저 순위 좌우함\n",
    "    \n",
    "    high = stack + lottos.count(0) \n",
    "    #low = stack\n",
    "    \n",
    "    return [rack_dict[high], rack_dict[stack]]"
   ]
  },
  {
   "cell_type": "markdown",
   "metadata": {},
   "source": [
    "## Sol2\n",
    "### 참고: https://velog.io/@dlgosla/%ED%94%84%EB%A1%9C%EA%B7%B8%EB%9E%98%EB%A8%B8%EC%8A%A4-%EB%A1%9C%EB%98%90%EC%9D%98-%EC%B5%9C%EA%B3%A0%EC%88%9C%EC%9C%84%EC%99%80-%EC%B5%9C%EC%A0%80-%EC%88%9C%EC%9C%84"
   ]
  },
  {
   "cell_type": "code",
   "execution_count": null,
   "metadata": {},
   "outputs": [],
   "source": [
    "def rank_cal(count):\n",
    "    return 7 - count if count > 1 else 6\n",
    "\n",
    "# 랭크 계산해주는 함수 계산\n",
    "\n",
    "def solution(lottos, win_nums):\n",
    "    \n",
    "    count = 0\n",
    "    \n",
    "    for num in lottos:\n",
    "        if num in win_nums:\n",
    "            count += 1\n",
    "        else:\n",
    "            pass\n",
    "    \n",
    "    return [rank_cal(count + lottos.count(0)), rank_cal(count)]"
   ]
  }
 ],
 "metadata": {
  "kernelspec": {
   "display_name": "base",
   "language": "python",
   "name": "python3"
  },
  "language_info": {
   "codemirror_mode": {
    "name": "ipython",
    "version": 3
   },
   "file_extension": ".py",
   "mimetype": "text/x-python",
   "name": "python",
   "nbconvert_exporter": "python",
   "pygments_lexer": "ipython3",
   "version": "3.10.11"
  }
 },
 "nbformat": 4,
 "nbformat_minor": 2
}
