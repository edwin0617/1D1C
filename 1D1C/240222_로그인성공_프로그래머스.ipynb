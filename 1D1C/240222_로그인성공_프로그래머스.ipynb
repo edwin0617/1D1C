{
 "cells": [
  {
   "cell_type": "markdown",
   "metadata": {},
   "source": [
    "## So1 1"
   ]
  },
  {
   "cell_type": "code",
   "execution_count": null,
   "metadata": {},
   "outputs": [],
   "source": [
    "def solution(id_pw, db):\n",
    "    match_id = 0\n",
    "    match_pw = 0\n",
    "    \n",
    "    # 회원정보_db 안에 id_pw 배열이 담겨다면 로그인 성공한 것\n",
    "    if id_pw in db:\n",
    "        return \"login\"\n",
    "    \n",
    "    # 회원정보_db 안에 id_pw 배열이 매칭되지 않았음\n",
    "    ## 반복문 돌면서 비번만 틀렸다면 \"wrong pw\" return\n",
    "    for i in db:\n",
    "        if id_pw[0] in i:\n",
    "            return \"wrong pw\"\n",
    "            \n",
    "    # 여까지 내려왔다면 둘다 틀린 것이므로 \"fail\" return\n",
    "    return \"fail\"\n",
    "    "
   ]
  },
  {
   "cell_type": "markdown",
   "metadata": {},
   "source": [
    "## Sol 2"
   ]
  },
  {
   "cell_type": "code",
   "execution_count": null,
   "metadata": {},
   "outputs": [],
   "source": [
    "# id를 key값으로 pw를 value값으로 dict로 만들어서 비교\n",
    "def solution(id_pw, db):\n",
    "    db_dict = {i[0]: i[1] for i in db}\n",
    "    # id 가 있을 때\n",
    "    if id_pw[0] in db_dict:\n",
    "        if id_pw[1] == db_dict[id_pw[0]]:\n",
    "            return \"login\"\n",
    "        else:\n",
    "            return \"wrong pw\"\n",
    "    # id가 없을 때\n",
    "    else:\n",
    "        return \"fail\""
   ]
  }
 ],
 "metadata": {
  "kernelspec": {
   "display_name": "base",
   "language": "python",
   "name": "python3"
  },
  "language_info": {
   "codemirror_mode": {
    "name": "ipython",
    "version": 3
   },
   "file_extension": ".py",
   "mimetype": "text/x-python",
   "name": "python",
   "nbconvert_exporter": "python",
   "pygments_lexer": "ipython3",
   "version": "3.10.11"
  }
 },
 "nbformat": 4,
 "nbformat_minor": 2
}
