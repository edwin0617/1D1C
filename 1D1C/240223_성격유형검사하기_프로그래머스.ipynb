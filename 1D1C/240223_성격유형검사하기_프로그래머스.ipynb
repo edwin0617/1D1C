{
 "cells": [
  {
   "cell_type": "markdown",
   "metadata": {},
   "source": [
    "## Sol 1"
   ]
  },
  {
   "cell_type": "code",
   "execution_count": null,
   "metadata": {},
   "outputs": [],
   "source": [
    "def solution(survey, choices):\n",
    "    ap_list = ['R', 'T', 'C', 'F', 'J', 'M', 'A', 'N']\n",
    "    fac_dict = { ap : 0  for ap in ap_list}\n",
    "    \n",
    "    for factor, j in zip(survey, choices):\n",
    "        if j < 4:\n",
    "            fac_dict[factor[0]] += abs(j - 4)\n",
    "        elif j > 4:\n",
    "            fac_dict[factor[1]] += abs(j - 4)\n",
    "        else:\n",
    "            pass\n",
    "    \n",
    "    answer = \"\"\n",
    "    for factor in ['RT', 'CF', 'JM', 'AN']:\n",
    "        if fac_dict[factor[0]] > fac_dict[factor[1]]:\n",
    "            answer += factor[0]\n",
    "        elif fac_dict[factor[0]] < fac_dict[factor[1]]:\n",
    "            answer += factor[1]\n",
    "        else:\n",
    "            answer += min(factor[0], factor[1])\n",
    "    \n",
    "    return answer"
   ]
  },
  {
   "cell_type": "markdown",
   "metadata": {},
   "source": [
    "## Sol 2 \n",
    "## 참고 : https://velog.io/@yujeongkwon/%ED%94%84%EB%A1%9C%EA%B7%B8%EB%9E%98%EB%A8%B8%EC%8A%A4-PYTHON-%EC%84%B1%EA%B2%A9-%EC%9C%A0%ED%98%95-%EA%B2%80%EC%82%AC%ED%95%98%EA%B8%B0"
   ]
  },
  {
   "cell_type": "code",
   "execution_count": null,
   "metadata": {},
   "outputs": [],
   "source": [
    "def solution(survey, choices):\n",
    "    answer = ''\n",
    "    dic= {\"R\" : 0,\"T\" : 0,\"C\" : 0,\"F\" : 0,\"J\" : 0,\"M\" : 0,\"A\" : 0,\"N\" : 0 }\n",
    "    \n",
    "    for s,c in zip(survey,choices):\n",
    "        if c>4:     dic[s[1]] += c-4\n",
    "        elif c<4:   dic[s[0]] += 4-c\n",
    "    \n",
    "    li = list(dic.items())\n",
    "    \n",
    "    for i in range(0,8,2):\n",
    "        if li[i][1] < li[i+1][1]: answer += li[i+1][0]\n",
    "        else:   answer += li[i][0]\n",
    "        \n",
    "    return answer"
   ]
  },
  {
   "cell_type": "markdown",
   "metadata": {},
   "source": [
    "## Sol 3 : 개선된 풀이"
   ]
  },
  {
   "cell_type": "code",
   "execution_count": null,
   "metadata": {},
   "outputs": [],
   "source": [
    "def solution(survey, choices):\n",
    "    answer = ''\n",
    "    alpha = ['R', 'T', 'C', 'F', 'J', 'M', 'A', 'N']\n",
    "    dic = {i : 0 for i in alpha}\n",
    "\n",
    "\n",
    "    # 매 문항마다 각 지표에 대해 점수 측정\n",
    "    for i, j in zip(survey, choices):\n",
    "        if j < 4:\n",
    "            dic[i[0]] += 4-j\n",
    "        elif j > 4:\n",
    "            dic[i[1]] += j-4\n",
    "\n",
    "    # 2칸씩 건너뛰면서 \n",
    "    ## 각 지표에서 높은 점수를 받은 유형 고르기\n",
    "    for i in range(0, 8, 2):\n",
    "        if dic[alpha[i]] > dic[alpha[i+1]]:\n",
    "            answer += alpha[i]\n",
    "        elif dic[alpha[i]] < dic[alpha[i+1]]:\n",
    "            answer += alpha[i+1]\n",
    "        else:\n",
    "            answer += min(alpah[i], alpha[i+1])\n",
    "    return answer"
   ]
  }
 ],
 "metadata": {
  "kernelspec": {
   "display_name": "base",
   "language": "python",
   "name": "python3"
  },
  "language_info": {
   "codemirror_mode": {
    "name": "ipython",
    "version": 3
   },
   "file_extension": ".py",
   "mimetype": "text/x-python",
   "name": "python",
   "nbconvert_exporter": "python",
   "pygments_lexer": "ipython3",
   "version": "3.10.11"
  }
 },
 "nbformat": 4,
 "nbformat_minor": 2
}
