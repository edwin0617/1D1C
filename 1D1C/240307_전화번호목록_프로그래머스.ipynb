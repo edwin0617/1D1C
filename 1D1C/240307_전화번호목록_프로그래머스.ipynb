{
 "cells": [
  {
   "cell_type": "markdown",
   "metadata": {},
   "source": [
    "## Sol 1 : Fail\n",
    "#### 효율성 테스트에서 실패"
   ]
  },
  {
   "cell_type": "code",
   "execution_count": 43,
   "metadata": {},
   "outputs": [],
   "source": [
    "def solution(phone_book):\n",
    "    \n",
    "    answer = True\n",
    "    phone_book.sort(key = lambda x: len(x), reverse=True)\n",
    "\n",
    "    # phone_book 길이가 1이 될 때까지만 루프\n",
    "    while len(phone_book) > 1:\n",
    "        \n",
    "        # 기준이 되는 전화번호 선정\n",
    "        hold = phone_book[-1]\n",
    "        #print(phone_book, hold)\n",
    "        \n",
    "\n",
    "        # 기준점 제외한 전화번호 리스트에 대해 반복\n",
    "        # i번째 전화번호가 hold로 시작하면 False를 할당한 후 반복문 종료\n",
    "        for i in phone_book[:-1]:\n",
    "            if i.startswith(hold):\n",
    "                answer = False\n",
    "                break\n",
    "        phone_book.pop() #\n",
    "        if answer == False:\n",
    "            break    \n",
    "    \n",
    "    return answer"
   ]
  },
  {
   "cell_type": "markdown",
   "metadata": {},
   "source": [
    "## Sol 2\n",
    "#### Sol 3과 효율성이 똑같기도 하고, 문제가 원하는 방향과 살짝 다르다.\n",
    "#### 이게 왜 해시 카테고리로 들어간 문제인지 아직 잘 모르겠음..."
   ]
  },
  {
   "cell_type": "code",
   "execution_count": null,
   "metadata": {},
   "outputs": [],
   "source": [
    "def solution(phone_book):\n",
    "    # 1. Hash map을 만든다\n",
    "    hash_map = {}\n",
    "    for phone_number in phone_book:\n",
    "        hash_map[phone_number] = 1\n",
    "    \n",
    "    # 2. 접두어가 Hash map에 존재하는지 찾는다\n",
    "    for phone_number in phone_book:\n",
    "        jubdoo = \"\"\n",
    "        for number in phone_number:\n",
    "            jubdoo += number\n",
    "            # 3. 접두어를 찾아야 한다 (기존 번호와 같은 경우 제외)\n",
    "            if jubdoo in hash_map and jubdoo != phone_number:\n",
    "                return False\n",
    "    return True"
   ]
  },
  {
   "cell_type": "markdown",
   "metadata": {},
   "source": [
    "## Sol 3\n",
    "#### sort를 해준후 zip으로 본인(p1)과 본인의 다음값(p2)을 묶음 처리해준다.\n",
    "#### for문을 돌면서 startwith 함수를 이용해 p2가 p1으로 시작하는지 검사한다.\n",
    "#### 효율성 16.7점"
   ]
  },
  {
   "cell_type": "code",
   "execution_count": null,
   "metadata": {},
   "outputs": [],
   "source": [
    "def solution(phoneBook):\n",
    "    phoneBook.sort()\n",
    "\n",
    "    for p1, p2 in zip(phoneBook, phoneBook[1:]):\n",
    "        if p2.startswith(p1):\n",
    "            return False\n",
    "    return True"
   ]
  }
 ],
 "metadata": {
  "kernelspec": {
   "display_name": "base",
   "language": "python",
   "name": "python3"
  },
  "language_info": {
   "codemirror_mode": {
    "name": "ipython",
    "version": 3
   },
   "file_extension": ".py",
   "mimetype": "text/x-python",
   "name": "python",
   "nbconvert_exporter": "python",
   "pygments_lexer": "ipython3",
   "version": "3.10.11"
  }
 },
 "nbformat": 4,
 "nbformat_minor": 2
}
